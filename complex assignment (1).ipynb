{
 "cells": [
  {
   "cell_type": "markdown",
   "id": "749352a9",
   "metadata": {},
   "source": [
    "# Q1. Declare a complex number and store it in a variable.Check the type and print the id of the same."
   ]
  },
  {
   "cell_type": "code",
   "execution_count": null,
   "id": "a87c8576",
   "metadata": {},
   "outputs": [],
   "source": [
    "a = complex(input())\n",
    "print(type(a))\n",
    "print(id(a))"
   ]
  },
  {
   "cell_type": "markdown",
   "id": "f342a23b",
   "metadata": {},
   "source": [
    "# Q2. Arithmetic Operations on complex numberTake two different complex numbers.Store them in two different variables.Do below operations on them:-\n",
    "#Find sum of both numbers\n",
    "#Find difference between them\n",
    "#Find the product of both numbers.\n",
    "#Find value after dividing first num with second number\n",
    "#Find the result of the first num to the power of the second number."
   ]
  },
  {
   "cell_type": "code",
   "execution_count": null,
   "id": "c19cee49",
   "metadata": {},
   "outputs": [],
   "source": [
    "a = complex(input())\n",
    "b = complex(input())\n",
    "print(a+b)\n",
    "print(a-b)\n",
    "print(a*b)\n",
    "print(a/b)\n",
    "print(a**b)"
   ]
  },
  {
   "cell_type": "markdown",
   "id": "e1cb7aaa",
   "metadata": {},
   "source": [
    "# Q3 Comparison Operation not applicable between instance of complexvalues.Object reusability concept is not applicable on complex number"
   ]
  },
  {
   "cell_type": "markdown",
   "id": "41d9557c",
   "metadata": {},
   "source": [
    "# Q4. Equality Operator\n",
    "#Take two different complex numbers.\n",
    "#Store them in two different variables.\n",
    "#Equate them using equality operators (==, !=)\n",
    "#Observe the output(return type should be boolean)"
   ]
  },
  {
   "cell_type": "code",
   "execution_count": null,
   "id": "b912815e",
   "metadata": {},
   "outputs": [],
   "source": [
    "a = complex(input())\n",
    "b = complex(input())\n",
    "if a == b:\n",
    "    print(bool(1))\n",
    "else:\n",
    "    print(bool(0))\n",
    "    "
   ]
  },
  {
   "cell_type": "markdown",
   "id": "0a9c01ad",
   "metadata": {},
   "source": [
    "# Q5. Logical operators\n",
    "Observe the output of below code\n",
    "Cross check the output manually\n",
    "print ( 10 + 20j and 20 + 30j ) #20+30j\n",
    "#----------------------------------------->Output is 20+30j\n",
    "print ( 0 + 0j and 20 + 30j ) #0+0j\n",
    "#----------------------------------------->Output is 0j\n",
    "print ( 20 + 30j and 0 + 0j ) #0+0j\n",
    "#----------------------------------------->Output is 0j\n",
    "print ( 0 + 0j and 0 + 0j ) #0+0j\n",
    "#----------------------------------------->Output is 0j\n",
    "print ( 10 + 20j or 20 + 30j ) #10+20j\n",
    "#----------------------------------------->Output is 10+20j\n",
    "print ( 0 + 0j or 20 + 30j ) #20+30j\n",
    "#----------------------------------------->Output is 20+30j\n",
    "print ( 20 + 30j or 0 + 0j ) #20+30j\n",
    "#----------------------------------------->Output is 20+30j\n",
    "print ( 0 + 0j or 0 + 0j ) #0+0j\n",
    "#----------------------------------------->Output is 0j\n",
    "print ( not 10 + 20j ) #False\n",
    "#----------------------------------------->Output is False\n",
    "print ( not 0 + 0j ) #True\n",
    "#----------------------------------------->Output is True"
   ]
  },
  {
   "cell_type": "code",
   "execution_count": null,
   "id": "9ce25928",
   "metadata": {},
   "outputs": [],
   "source": [
    "same rule as for integer and float values "
   ]
  },
  {
   "cell_type": "markdown",
   "id": "8b28dc25",
   "metadata": {},
   "source": [
    "# Q6. What is the output of the expression inside the print statement.Cross check before running the program.\n",
    "a = 10 + 20j\n",
    "b = 10 + 20j\n",
    "print (a is b) #False #True or False?\n",
    "print (a is not b) #True #True or False?"
   ]
  },
  {
   "cell_type": "markdown",
   "id": "61a3f204",
   "metadata": {},
   "source": [
    "# Q7. Membership operation\n",
    "in, not in are two membership operators and it returns boolean value\n",
    "print ( '2.7' in 'Python2.7.8' ) #True\n",
    "print ( 10 + 20j in [ 10 , 10.20 , 10 + 20j , 'Python' ]) #True\n",
    "print ( 10 + 20j in ( 10 , 10.20 , 10 + 20j , 'Python' )) #True\n",
    "print ( 30 + 40j in { 1 , 20.30 , 30 + 40j }) #True\n",
    "print ( 30 + 40j in { 1 : 100 , 2.3 : 200 , 30 + 40j : 300 }) #True\n",
    "print ( 10 in range ( 20 ))"
   ]
  },
  {
   "cell_type": "code",
   "execution_count": null,
   "id": "8562c2ab",
   "metadata": {},
   "outputs": [],
   "source": []
  }
 ],
 "metadata": {
  "kernelspec": {
   "display_name": "Python 3 (ipykernel)",
   "language": "python",
   "name": "python3"
  },
  "language_info": {
   "codemirror_mode": {
    "name": "ipython",
    "version": 3
   },
   "file_extension": ".py",
   "mimetype": "text/x-python",
   "name": "python",
   "nbconvert_exporter": "python",
   "pygments_lexer": "ipython3",
   "version": "3.10.9"
  }
 },
 "nbformat": 4,
 "nbformat_minor": 5
}
