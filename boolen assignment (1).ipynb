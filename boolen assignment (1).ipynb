{
 "cells": [
  {
   "cell_type": "markdown",
   "id": "413073d4",
   "metadata": {},
   "source": [
    "# Q. Membership operation\n",
    "in, not in are two membership operators and it returns boolean value\n",
    "print ( '2.7' in 'Python2.7.8' ) #True\n",
    "print ( 10 + 20j in [ 10 , 10.20 , 10 + 20j , 'Python' ]) #True\n",
    "print ( 10 + 20j in ( 10 , 10.20 , 10 + 20j , 'Python' )) #True\n",
    "print ( 30 + 40j in { 1 , 20.30 , 30 + 40j }) #True\n",
    "print ( 30 + 40j in { 1 : 100 , 2.3 : 200 , 30 + 40j : 300 }) #True\n",
    "print ( 10 in range ( 20 ))"
   ]
  },
  {
   "cell_type": "code",
   "execution_count": null,
   "id": "5700290f",
   "metadata": {},
   "outputs": [],
   "source": [
    "a = bool(input())\n",
    "print(type(a))\n",
    "print(id(a))"
   ]
  },
  {
   "cell_type": "markdown",
   "id": "3dddedea",
   "metadata": {},
   "source": [
    "# Q. Take one boolean value between 0 - 256.\n",
    "Assign it to two different variables.\n",
    "Check the id of both the variables. It should come the same. Check why?Q. Take one boolean value between 0 - 256.\n",
    "Assign it to two different variables.\n",
    "Check the id of both the variables. It should come the same. Check why?"
   ]
  },
  {
   "cell_type": "code",
   "execution_count": null,
   "id": "eab4f547",
   "metadata": {},
   "outputs": [],
   "source": [
    "a = bool(input())\n",
    "b = bool(input())\n",
    "print(id(a))\n",
    "print(id(b))\n",
    "\"\"\"id value will be same b/w 0- 256\"\"\"\n",
    "    "
   ]
  },
  {
   "cell_type": "markdown",
   "id": "b0bf3616",
   "metadata": {},
   "source": [
    "# Q. Arithmetic Operations on boolean data\n",
    "Take two different boolean values.\n",
    "Store them in two different variables.\n",
    "Do below operations on them:-\n",
    "Find sum of both values\n",
    "Find difference between them\n",
    "Find the product of both.\n",
    "Find value after dividing first value with second value\n",
    "Find the remainder after dividing first value with second value\n",
    "Find the quotient after dividing first value with second value\n",
    "Find the result of first value to the power of second value."
   ]
  },
  {
   "cell_type": "code",
   "execution_count": null,
   "id": "4ed73a43",
   "metadata": {},
   "outputs": [],
   "source": [
    "a = bool(input())\n",
    "b = bool(input())\n",
    "print(\"sum=\",a+b)\n",
    "print(\"diff=\",a-b)\n",
    "print(\"prod=\",a*b)\n",
    "print(\"remainder=a\",a/b)\n",
    "print(\"quotient=\",a//b)\n",
    "print(\"power=\",a**b)"
   ]
  },
  {
   "cell_type": "markdown",
   "id": "e935452e",
   "metadata": {},
   "source": [
    "# Q. Comparison Operators on boolean values\n",
    "Take two different boolean values.\n",
    "Store them in two different variables.\n",
    "Do below operations on them:-\n",
    "Compare these two values with below operator:-\n",
    "Greater than, '>'\n",
    "less than, '<'\n",
    "Greater than or equal to, '>='\n",
    "Less than or equal to, '<='\n",
    "Observe their output(return type should be boolean)"
   ]
  },
  {
   "cell_type": "code",
   "execution_count": null,
   "id": "01558d1e",
   "metadata": {},
   "outputs": [],
   "source": [
    "a = bool(input())\n",
    "b = bool(input())\n",
    "if a > b: \n",
    "    print(\"greater\")\n",
    "elif a < b: \n",
    "    print(\"smaller\")\n",
    "elif a<=b: \n",
    "    print(\"smaller equal\")\n",
    "elif a>=b: \n",
    "    print(\"greater and equal\")\n",
    "else: bool(0)\n",
    "                    \n",
    "            "
   ]
  },
  {
   "cell_type": "markdown",
   "id": "ab293f0a",
   "metadata": {},
   "source": [
    "# Q. Equality Operator\n",
    "Take two different boolean values.\n",
    "Store them in two different variables.\n",
    "Equate them using equality operators (==, !=)\n",
    "Observe the output(return type should be boolean)"
   ]
  },
  {
   "cell_type": "code",
   "execution_count": null,
   "id": "e470b3ab",
   "metadata": {},
   "outputs": [],
   "source": [
    "a = bool(input())\n",
    "b = bool(input())\n",
    "if a == b:\n",
    "    print(\"equal\")\n",
    "elif a != b:\n",
    "    print(\"not equal\")\n",
    "else:\n",
    "    print(\"error\")"
   ]
  },
  {
   "cell_type": "markdown",
   "id": "95035515",
   "metadata": {},
   "source": [
    "# Q. Logical operators\n",
    "Observe the output of below code\n",
    "Cross check the output manually\n",
    "print ( True and True )\n",
    "#----------------------------------------->Output is True\n",
    "print ( False and True )\n",
    "#----------------------------------------->Output is False\n",
    "print ( True and False )\n",
    "#----------------------------------------->Output is False\n",
    "print ( False and False )\n",
    "#----------------------------------------->Output is False\n",
    "print ( True or True )\n",
    "#----------------------------------------->Output is True\n",
    "print ( False or True )\n",
    "#----------------------------------------->Output is True\n",
    "print ( True or False )\n",
    "#----------------------------------------->Output is True\n",
    "print ( False or False )\n",
    "#----------------------------------------->Output is False\n",
    "print ( not True )\n",
    "#----------------------------------------->Output is False\n",
    "print ( not False )\n",
    "#----------------------------------------->Output is True"
   ]
  },
  {
   "cell_type": "markdown",
   "id": "22601aa0",
   "metadata": {},
   "source": [
    "# Q. Bitwise Operators\n",
    "Do below operations on the values provided below:-\n",
    "Bitwise and(&) --------------> True, True -------> Output is True\n",
    "Bitwise or(|) --------------> True, False -------> Output is True\n",
    "Bitwise(^) --------------> True, False -------> Output is True\n",
    "Bitwise negation(~) ---------> True -------> Output is -2\n",
    "Bitwise left shift ---------> True,2 -------> Output is 4\n",
    "Bitwise right shift ---------> True,2 -------> Output is 0\n",
    "Cross check the output manually"
   ]
  },
  {
   "cell_type": "markdown",
   "id": "d35b0564",
   "metadata": {},
   "source": [
    "# Q. What is the output of expression inside the print statement. Cross\n",
    "check before running the program.\n",
    "a = True\n",
    "b = True\n",
    "print (a is b) #True or False? #\n",
    "print (a is not b) #True or False?\n",
    "a = False\n",
    "b = False\n",
    "print (a is b) #True or False?\n",
    "print (a is not b) #True or False?"
   ]
  },
  {
   "cell_type": "code",
   "execution_count": 3,
   "id": "a0fd15db",
   "metadata": {},
   "outputs": [
    {
     "name": "stdout",
     "output_type": "stream",
     "text": [
      "False\n",
      "True\n"
     ]
    }
   ],
   "source": [
    "a = True\n",
    "b = False\n",
    "print(a is b)\n",
    "print(a is not b)\n"
   ]
  },
  {
   "cell_type": "markdown",
   "id": "e6c6e075",
   "metadata": {},
   "source": [
    "# Q. Membership operation\n",
    "in, not in are two membership operators and it returns boolean value\n",
    "print ( True in [ 10 , 10.20 , 10 + 20j , 'Python' , True ])\n",
    "print ( False in ( 10 , 10.20 , 10 + 20j , 'Python' , False ))\n",
    "print ( True in { 1 , 2 , 3 , True })\n",
    "print ( True in { True : 100 , False : 200 , True : 300 })\n",
    "print ( False in { True : 100 , False : 200 , True : 300 })"
   ]
  },
  {
   "cell_type": "code",
   "execution_count": 4,
   "id": "c4f1a5ac",
   "metadata": {},
   "outputs": [
    {
     "name": "stdout",
     "output_type": "stream",
     "text": [
      "True\n",
      "True\n",
      "True\n",
      "True\n",
      "True\n"
     ]
    }
   ],
   "source": [
    "print ( True in [ 10 , 10.20 , 10 + 20j , 'Python' , True ])\n",
    "print ( False in ( 10 , 10.20 , 10 + 20j , 'Python' , False ))\n",
    "print ( True in { 1 , 2 , 3 , True })\n",
    "print ( True in { True : 100 , False : 200 , True : 300 })\n",
    "print ( False in { True : 100 , False : 200 , True : 300 })"
   ]
  }
 ],
 "metadata": {
  "kernelspec": {
   "display_name": "Python 3 (ipykernel)",
   "language": "python",
   "name": "python3"
  },
  "language_info": {
   "codemirror_mode": {
    "name": "ipython",
    "version": 3
   },
   "file_extension": ".py",
   "mimetype": "text/x-python",
   "name": "python",
   "nbconvert_exporter": "python",
   "pygments_lexer": "ipython3",
   "version": "3.10.9"
  }
 },
 "nbformat": 4,
 "nbformat_minor": 5
}
