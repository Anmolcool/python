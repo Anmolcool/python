{
 "cells": [
  {
   "cell_type": "code",
   "execution_count": 1,
   "id": "4e3f37c8",
   "metadata": {},
   "outputs": [
    {
     "name": "stdout",
     "output_type": "stream",
     "text": [
      "<module 'numpy.version' from 'C:\\\\Users\\\\SHAKEB\\\\anaconda3\\\\lib\\\\site-packages\\\\numpy\\\\version.py'>\n"
     ]
    }
   ],
   "source": [
    "#1. Write a Python program to print the NumPy version in your system.\n",
    "import numpy as np\n",
    "print(np.version)"
   ]
  },
  {
   "cell_type": "code",
   "execution_count": 2,
   "id": "97f1a9cb",
   "metadata": {},
   "outputs": [
    {
     "name": "stdout",
     "output_type": "stream",
     "text": [
      "Original array:\n",
      "[1 2 3 4 5]\n",
      "Reverse array:\n",
      "[5 4 3 2 1]\n"
     ]
    }
   ],
   "source": [
    "#2. Write a Python program to reverse an array (first element becomes last).\n",
    "import numpy as np\n",
    "x = np.array([1,2,3,4,5])\n",
    "print(\"Original array:\")\n",
    "print(x)\n",
    "print(\"Reverse array:\")\n",
    "x = x[::-1]\n",
    "print(x)"
   ]
  },
  {
   "cell_type": "code",
   "execution_count": 3,
   "id": "67e0bcae",
   "metadata": {},
   "outputs": [
    {
     "name": "stdout",
     "output_type": "stream",
     "text": [
      "<class 'list'>\n",
      "list into array: [1 2 3 4 5]\n",
      "tuple into array: [[1 2 3]\n",
      " [4 5 6]]\n",
      "<class 'numpy.ndarray'>\n"
     ]
    }
   ],
   "source": [
    "#3. Write a Python program to convert a list and tuple into arrays.\n",
    "import numpy as np\n",
    "y= [1,2,3,4,5]\n",
    "print(type(y))\n",
    "ar1=np.array(y)\n",
    "print(\"list into array:\", ar1)\n",
    "type(ar1)\n",
    "z= ([1,2,3], [4,5,6])\n",
    "type(z)\n",
    "ar2=np.array(z)\n",
    "print(\"tuple into array:\", ar2)\n",
    "print(type(ar2))\n"
   ]
  },
  {
   "cell_type": "code",
   "execution_count": 4,
   "id": "fed6d1eb",
   "metadata": {},
   "outputs": [
    {
     "name": "stdout",
     "output_type": "stream",
     "text": [
      "a1: [1 2 3 4]\n",
      "a2: [4 5 3 7]\n",
      "Common values between two arrays:\n",
      "[3 4]\n"
     ]
    }
   ],
   "source": [
    "#4. Write a Python program to find common values between two arrays.\n",
    "a1= np.array([1,2,3,4])\n",
    "print(\"a1:\", a1)\n",
    "a2= np.array([4,5,3,7])\n",
    "print(\"a2:\", a2)\n",
    "print(\"Common values between two arrays:\")\n",
    "print(np.intersect1d(a1, a2))"
   ]
  },
  {
   "cell_type": "code",
   "execution_count": 5,
   "id": "7f037bf8",
   "metadata": {},
   "outputs": [
    {
     "name": "stdout",
     "output_type": "stream",
     "text": [
      "a1: [1 2]\n",
      "a2: [4 3]\n",
      "By comparing two arrays\n",
      "a1 > a2\n",
      "[False False]\n",
      "a1 >= a2\n",
      "[False False]\n",
      "a1 < a2\n",
      "[ True  True]\n",
      "a1 <= a2\n",
      "[ True  True]\n"
     ]
    }
   ],
   "source": [
    "#5. Write a Python program compare two arrays using numpy.\n",
    "a1= np.array([1,2])\n",
    "print(\"a1:\", a1)\n",
    "a2= np.array([4,3])\n",
    "print(\"a2:\", a2)\n",
    "print(\"By comparing two arrays\")\n",
    "print(\"a1 > a2\")\n",
    "print(np.greater(a1, a2))\n",
    "print(\"a1 >= a2\")\n",
    "print(np.greater_equal(a1, a2))\n",
    "print(\"a1 < a2\")\n",
    "print(np.less(a1, a2))\n",
    "print(\"a1 <= a2\")\n",
    "print(np.less_equal(a1, a2))\n",
    "\n"
   ]
  },
  {
   "cell_type": "code",
   "execution_count": 6,
   "id": "4dbdb8ef",
   "metadata": {},
   "outputs": [
    {
     "name": "stdout",
     "output_type": "stream",
     "text": [
      "[1 2 3 4]\n",
      "dimension of a1 is: 1\n",
      "by changing the dimension:\n",
      " [[1 2]\n",
      " [3 4]]\n",
      "the dimension after changing is: 2\n"
     ]
    }
   ],
   "source": [
    "#6. Write a Python program to change the dimension of an array.\n",
    "a1= np.array([1,2,3,4])\n",
    "print(a1)\n",
    "print (f'dimension of a1 is:', np.ndim(a1))\n",
    "a2=np.reshape(a1,(2,2))\n",
    "print('by changing the dimension:\\n', a2)\n",
    "print(f'the dimension after changing is:', np.ndim(a2))"
   ]
  },
  {
   "cell_type": "code",
   "execution_count": 7,
   "id": "8e4e4d12",
   "metadata": {},
   "outputs": [
    {
     "name": "stdout",
     "output_type": "stream",
     "text": [
      "[ 3  5  6  9 10 12 15 18 20 21 24 25 27 30 33 35 36 39 40 42 45 48 50 51\n",
      " 54 55 57 60 63 65 66 69 70 72 75 78 80 81 84 85 87 90 93 95 96 99]\n",
      "sum of all multiple of 3 or 5 below 100 is: 2318\n"
     ]
    }
   ],
   "source": [
    "#7. Write a Python program (using numpy) to sum of all the multiples of 3 or 5 below 100.\n",
    "arr1= np.arange(1,100)\n",
    "n= arr1[(arr1 % 3 == 0) | (arr1 % 5 == 0)]\n",
    "print(n[:100])\n",
    "print(f'sum of all multiple of 3 or 5 below 100 is:', n.sum())"
   ]
  },
  {
   "cell_type": "code",
   "execution_count": 8,
   "id": "b96408e4",
   "metadata": {},
   "outputs": [
    {
     "name": "stdout",
     "output_type": "stream",
     "text": [
      "[1 2 3 4]\n",
      "<class 'numpy.ndarray'>\n",
      "[1, 2, 3, 4]\n",
      "<class 'list'>\n"
     ]
    }
   ],
   "source": [
    "#8. Write a Python program to convert a NumPy array into Python list structure. \n",
    "arr2= np.array([1,2,3,4])\n",
    "print(arr2)\n",
    "print(type(arr2))\n",
    "l1= arr2.tolist()\n",
    "print(l1)\n",
    "print(type(l1))\n"
   ]
  },
  {
   "cell_type": "code",
   "execution_count": 9,
   "id": "db6127b3",
   "metadata": {},
   "outputs": [
    {
     "name": "stdout",
     "output_type": "stream",
     "text": [
      "array a1:\n",
      " [[1 2 3]\n",
      " [4 5 6]]\n",
      "array a2:\n",
      " [[7 8]\n",
      " [9 4]]\n",
      "after adding a array a2 as a column:\n",
      "[[1 2 3 7 8]\n",
      " [4 5 6 9 4]]\n"
     ]
    }
   ],
   "source": [
    "#9. Write a Python program to how to add an extra column to a numpy array.\n",
    "arr1=np.array([1,2,3,4,5,6])\n",
    "a1=np.reshape(arr1,(2,3))\n",
    "print('array a1:\\n', a1)\n",
    "arr2=np.array([7,8,9,4])\n",
    "a2=np.reshape(arr2,(2,2))\n",
    "print('array a2:\\n', a2)\n",
    "#to add extra column\n",
    "print('after adding a array a2 as a column:')\n",
    "print(np.append(a1, a2, axis=1))"
   ]
  },
  {
   "cell_type": "code",
   "execution_count": 10,
   "id": "0ae7a1af",
   "metadata": {},
   "outputs": [
    {
     "name": "stdout",
     "output_type": "stream",
     "text": [
      "[[ 0.50516701 -0.79438661 -0.36970887]\n",
      " [ 0.7644085   0.88665777 -1.73786695]]\n",
      "the size of array x is: 6\n",
      "[]\n",
      "the size of array y is: 0\n"
     ]
    }
   ],
   "source": [
    "#10. Write a Python program to check whether the numpy array is empty or not.\n",
    "x= np.random.randn(2,3)\n",
    "print(x)\n",
    "print('the size of array x is:', x.size)\n",
    "y= np.array([])\n",
    "print(y)\n",
    "print('the size of array y is:', y.size)"
   ]
  },
  {
   "cell_type": "code",
   "execution_count": 11,
   "id": "79fa8e3d",
   "metadata": {},
   "outputs": [
    {
     "name": "stdout",
     "output_type": "stream",
     "text": [
      "[[-1.13005798 -0.21001652  0.19525005]\n",
      " [-0.71169077  0.70953791  0.85826836]\n",
      " [ 0.7985228   2.52157284 -0.02189571]]\n",
      "After normalization we get:\n",
      "[[0.         0.25195358 0.36293593]\n",
      " [0.11456997 0.50377379 0.54450366]\n",
      " [0.52814232 1.         0.30347051]]\n"
     ]
    }
   ],
   "source": [
    "#11. Write a Python program to normalize a 3x3 random matrix.\n",
    "y= np.random.randn(3,3)\n",
    "print(y)\n",
    "ymax, ymin = y.max(), y.min()\n",
    "y = (y - ymin)/(ymax - ymin)\n",
    "print(\"After normalization we get:\")\n",
    "print(y)"
   ]
  },
  {
   "cell_type": "code",
   "execution_count": 12,
   "id": "063a4a54",
   "metadata": {},
   "outputs": [
    {
     "name": "stderr",
     "output_type": "stream",
     "text": [
      "C:\\Users\\SHAKEB\\anaconda3\\lib\\site-packages\\numpy\\lib\\nanfunctions.py:1119: RuntimeWarning: All-NaN slice encountered\n",
      "  r, k = function_base._ureduce(a, func=_nanmedian, axis=axis, out=out,\n"
     ]
    },
    {
     "data": {
      "text/plain": [
       "array([nan, nan, nan, nan, nan, nan, nan, nan, nan, nan])"
      ]
     },
     "execution_count": 12,
     "metadata": {},
     "output_type": "execute_result"
    }
   ],
   "source": [
    "#12. How to ignore all numpy warnings (not recommended)?\n",
    "data = np.random.randn(50).reshape(10, 5) * np.nan\n",
    "np.seterr(all=\"ignore\")\n",
    "np.nanmedian(data, axis=1)"
   ]
  },
  {
   "cell_type": "code",
   "execution_count": 13,
   "id": "34cf6482",
   "metadata": {},
   "outputs": [
    {
     "name": "stdout",
     "output_type": "stream",
     "text": [
      "[[1 2 1]\n",
      " [4 7 5]\n",
      " [9 4 3]\n",
      " [1 2 0]]\n",
      "after swaping the two rows we get:\n",
      " [[9 4 3]\n",
      " [4 7 5]\n",
      " [1 2 1]\n",
      " [1 2 0]]\n"
     ]
    }
   ],
   "source": [
    "#13. How to swap two rows of an array?\n",
    "x = np.array([[1,2,1], [4,7,5], [9,4,3], [1,2,0]])\n",
    "print(x)\n",
    "x[[0, 2]] = x[[2, 0]]\n",
    "print('after swaping the two rows we get:\\n', x)"
   ]
  },
  {
   "cell_type": "code",
   "execution_count": 14,
   "id": "698e5603",
   "metadata": {},
   "outputs": [
    {
     "name": "stdout",
     "output_type": "stream",
     "text": [
      "[ 0.91747123  0.07107281 -0.16508038 -1.65600712 -0.20643631  1.34435145\n",
      " -0.74025895  1.87135582  0.09794495 -1.53133366]\n",
      "array after sorting:\n",
      "[-1.65600712 -1.53133366 -0.74025895 -0.20643631 -0.16508038  0.07107281\n",
      "  0.09794495  0.91747123  1.34435145  1.87135582]\n"
     ]
    }
   ],
   "source": [
    "#14. Python program to create a random vector of size 10 and sort it.\n",
    "y= np.random.randn(10)\n",
    "print(y)\n",
    "y.sort()\n",
    "print(\"array after sorting:\")\n",
    "print(y)"
   ]
  },
  {
   "cell_type": "code",
   "execution_count": 15,
   "id": "3ada91ef",
   "metadata": {},
   "outputs": [
    {
     "name": "stdout",
     "output_type": "stream",
     "text": [
      "First array:\n",
      "[ 0.44977475 -0.11401274  0.83390466 -1.02374633  0.48361445 -1.35111585]\n",
      "Second array:\n",
      "[-0.94381746  1.19920975  1.50665643  0.5529249   0.0794644  -0.33504955]\n",
      "Test above two arrays are equal or not!\n",
      "False\n"
     ]
    }
   ],
   "source": [
    "#15. Write a Python program to check two random arrays are equal or not.\n",
    "x = np.random.randn(6)\n",
    "print(\"First array:\")\n",
    "print(x)\n",
    "y = np.random.randn(6)\n",
    "print(\"Second array:\")\n",
    "print(y)\n",
    "print(\"Test above two arrays are equal or not!\")\n",
    "array_equal = np.allclose(x, y)\n",
    "print(array_equal)"
   ]
  },
  {
   "cell_type": "code",
   "execution_count": 16,
   "id": "a9df3d35",
   "metadata": {},
   "outputs": [
    {
     "name": "stdout",
     "output_type": "stream",
     "text": [
      "5.0\n",
      "-3.0\n",
      "4.0\n",
      "0.25\n"
     ]
    }
   ],
   "source": [
    "#16. Write a Python program to add, subtract, multiply, divide arguments element-wise.\n",
    "print(np.add(1.0, 4.0))\n",
    "print(np.subtract(1.0, 4.0))\n",
    "print(np.multiply(1.0, 4.0))\n",
    "print(np.divide(1.0, 4.0))"
   ]
  },
  {
   "cell_type": "code",
   "execution_count": 142,
   "id": "7258998e",
   "metadata": {},
   "outputs": [
    {
     "name": "stdout",
     "output_type": "stream",
     "text": [
      "Yestraday date:  2022-06-25\n",
      "Today date:  2022-06-26\n",
      "Tomorrow date:  2022-06-27\n"
     ]
    }
   ],
   "source": [
    "#17. Write a Python program to get the dates of yesterday, today and tomorrow.\n",
    "yesterday = np.datetime64('today', 'D') - np.timedelta64(1, 'D')\n",
    "today     = np.datetime64('today', 'D')\n",
    "tomorrow  = np.datetime64('today', 'D') + np.timedelta64(1, 'D')\n",
    "\n",
    "print(\"Yestraday date: \",yesterday)\n",
    "print(\"Today date: \",today)\n",
    "print(\"Tomorrow date: \",tomorrow)"
   ]
  },
  {
   "cell_type": "code",
   "execution_count": null,
   "id": "c762c642",
   "metadata": {},
   "outputs": [],
   "source": []
  }
 ],
 "metadata": {
  "kernelspec": {
   "display_name": "Python 3 (ipykernel)",
   "language": "python",
   "name": "python3"
  },
  "language_info": {
   "codemirror_mode": {
    "name": "ipython",
    "version": 3
   },
   "file_extension": ".py",
   "mimetype": "text/x-python",
   "name": "python",
   "nbconvert_exporter": "python",
   "pygments_lexer": "ipython3",
   "version": "3.9.12"
  }
 },
 "nbformat": 4,
 "nbformat_minor": 5
}
