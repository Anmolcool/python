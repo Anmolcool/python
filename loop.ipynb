{
 "cells": [
  {
   "cell_type": "code",
   "execution_count": 7,
   "id": "f96775a9",
   "metadata": {},
   "outputs": [
    {
     "name": "stdout",
     "output_type": "stream",
     "text": [
      "enter the number(0-9) = 5\n",
      "five\n"
     ]
    }
   ],
   "source": [
    "\"\"\"Q. W. A P. which takes one number from 0 to 9 from the user and prints\n",
    "it in the word. And if the word is not from 0 to 9 then\n",
    "it should print that number is outside of the range and program should\n",
    "exit.\n",
    "For exapmple:-\n",
    "input = 1\n",
    "output = one\"\"\"\n",
    "\n",
    "a=int(input(\"enter the number(0-9) = \"))\n",
    "if a == 0:\n",
    "    print(\"zero\")\n",
    "elif a == 1:\n",
    "    print(\"one\")\n",
    "elif a == 2:\n",
    "    print(\"two\")\n",
    "elif a == 3:\n",
    "    print(\"three\")\n",
    "elif a == 4:\n",
    "    print(\"four\")\n",
    "elif a == 5:\n",
    "    print(\"five\")\n",
    "elif a == 6:\n",
    "    print(\"six\")\n",
    "elif a == 7:\n",
    "    print(\"seven\")\n",
    "elif a == 8:\n",
    "    print(\"eight\")\n",
    "elif a == 9:\n",
    "    print(\"nine\")\n",
    "else:\n",
    "    print(\"Number is outside of the range.\")"
   ]
  },
  {
   "cell_type": "code",
   "execution_count": 10,
   "id": "fd4f5e6c",
   "metadata": {},
   "outputs": [
    {
     "name": "stdout",
     "output_type": "stream",
     "text": [
      "enter the first no =3\n",
      "enter the second no =4\n",
      "enter the operation to be performed = 3\n",
      "mul= 12\n"
     ]
    }
   ],
   "source": [
    "\"\"\"#Q. W. A P. to implement calculator but the operation to be done and two\n",
    "numbers will be taken as input from user:-\n",
    "Operation console should show below:-\n",
    "Please select any one operation from below:-\n",
    "* To add enter 1\n",
    "* to subtract enter 2\n",
    "* To multiply enter 3\n",
    "* To divide enter 4\n",
    "* To divide and find quotient enter 5\n",
    "* To divide and find remainder enter 6\n",
    "* To divide and find num1 to the power of num2 enter 7\n",
    "* To Come out of the program enter 8\"\"\"\n",
    "\n",
    "a=int(input(\"enter the first no =\"))\n",
    "b=int(input(\"enter the second no =\"))\n",
    "c=int(input(\"enter the operation to be performed = \"))\n",
    "if c==1:\n",
    "    print(\"add=\",a+b)\n",
    "elif c==2:\n",
    "    print(\"sub=\",a-b)\n",
    "elif c==3:\n",
    "    print(\"mul=\",a*b)\n",
    "elif c==4:\n",
    "    print(\"add=\",a/b)\n",
    "elif c==5:    \n",
    "    print(\"quo=\",a//b)\n",
    "elif c==6:    \n",
    "    print(\"remaind=\",a%b)\n",
    "elif c==7:\n",
    "    print(\"pow=\",a**b)\n",
    "elif c==8:\n",
    "    print(\"out=\")\n",
    "    end\n",
    "\n"
   ]
  },
  {
   "cell_type": "code",
   "execution_count": 11,
   "id": "086d0ff6",
   "metadata": {},
   "outputs": [
    {
     "name": "stdout",
     "output_type": "stream",
     "text": [
      "enter the list of year to be checked1992 \n",
      "1992 is a leap year.\n"
     ]
    }
   ],
   "source": [
    "\"\"\"Q. W A P to check whether a year entered by user is an leap year or not?\n",
    "Check with below input:-\n",
    "leap year:- 2012, 1968, 2004, 1200, 1600,2400\n",
    "Non-lear year:- 1971, 2006, 1700,1800,1900\"\"\"\n",
    "\"\"\"\"\"\"\n",
    "\n",
    "year=int(input(\"enter the list of year to be checked\"))\n",
    "if (year%4 == 0 and year%100 != 0) or year % 400 == 0:\n",
    "    print(f\"{year} is a leap year.\")\n",
    "else:\n",
    "    print(f\"{year} is not a leap year.\")"
   ]
  },
  {
   "cell_type": "code",
   "execution_count": 15,
   "id": "4fd572bc",
   "metadata": {},
   "outputs": [
    {
     "name": "stdout",
     "output_type": "stream",
     "text": [
      "enter the number =4\n",
      "enter number is even\n"
     ]
    }
   ],
   "source": [
    "\"\"\"Q. W A P which takes one number from the user and checks whether it is\n",
    "an even or odd number?, If it even then prints number is\n",
    "even number else prints that number is odd number.\n",
    "\"\"\"\n",
    "\n",
    "a=int(input(\"enter the number =\"))\n",
    "if a%2 == 0:\n",
    "    print(\"enter number is even\")\n",
    "else:\n",
    "    print(\"enter number is odd\")\n"
   ]
  },
  {
   "cell_type": "code",
   "execution_count": 17,
   "id": "34c66e66",
   "metadata": {},
   "outputs": [
    {
     "name": "stdout",
     "output_type": "stream",
     "text": [
      "enter the first no =3\n",
      "enter the second no =6\n",
      "num1 is smaller than num2 if num1 is smaller than num2\n"
     ]
    }
   ],
   "source": [
    "\"\"\"Q. W A P which takes two numbers from the user and prints below output:-\n",
    "1. num1 is greater than num2 if num1 is greater than num2\n",
    "2. num1 is smaller than num2 if num1 is smaller than num2\n",
    "3. num1 is equal to num2 if num1 and num2 are equal\n",
    "Note:- 1. Do this problem using if - else\n",
    "2. Do this using ternary operator\n",
    "\"\"\"\n",
    "\n",
    "num1=int(input(\"enter the first no =\"))\n",
    "num2=int(input(\"enter the second no =\"))\n",
    "if num1>num2:\n",
    "    print(\"num1 is greater than num2 if num1 is greater than num2\")\n",
    "elif num1<num2:\n",
    "    print(\"num1 is smaller than num2 if num1 is smaller than num2\")\n",
    "else:\n",
    "    print(\"num1 is equal to num2 if num1 and num2 are equal\")"
   ]
  },
  {
   "cell_type": "code",
   "execution_count": 20,
   "id": "d7c9adad",
   "metadata": {},
   "outputs": [
    {
     "name": "stdout",
     "output_type": "stream",
     "text": [
      "enter the first number =23\n",
      "enter the second number =34\n",
      "enter the third number =3\n",
      "num2 is greater than num1 and num3 if num2 is greater than num1 and num3\n"
     ]
    }
   ],
   "source": [
    "\"\"\"Q. W A P which takes three numbers from the user and prints below\n",
    "output:-\n",
    "1. num1 is greater than num2 and num3 if num1 is greater than num2\n",
    "and num3\n",
    "2. num2 is greater than num1 and num3 if num2 is greater than num1\n",
    "and num3\n",
    "\"\"\"\n",
    "\n",
    "num1=int(input(\"enter the first number =\"))\n",
    "num2=int(input(\"enter the second number =\"))\n",
    "num3=int(input(\"enter the third number =\"))\n",
    "if num1>num2 and num1>num3:\n",
    "    print(\"num1 is greater than num2 and num3 if num1 is greater than num2 and num3\")\n",
    "elif num2>num1 and num2>num1:\n",
    "    print(\"num2 is greater than num1 and num3 if num2 is greater than num1 and num3\")      \n",
    "    "
   ]
  }
 ],
 "metadata": {
  "kernelspec": {
   "display_name": "Python 3 (ipykernel)",
   "language": "python",
   "name": "python3"
  },
  "language_info": {
   "codemirror_mode": {
    "name": "ipython",
    "version": 3
   },
   "file_extension": ".py",
   "mimetype": "text/x-python",
   "name": "python",
   "nbconvert_exporter": "python",
   "pygments_lexer": "ipython3",
   "version": "3.10.9"
  }
 },
 "nbformat": 4,
 "nbformat_minor": 5
}
